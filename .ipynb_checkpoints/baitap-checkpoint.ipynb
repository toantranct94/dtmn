{
 "cells": [
  {
   "cell_type": "code",
   "execution_count": 1,
   "metadata": {},
   "outputs": [],
   "source": [
    "import numpy as np   \n",
    "from sklearn.preprocessing import PolynomialFeatures, MinMaxScaler, StandardScaler\n",
    "from sklearn.linear_model import LinearRegression\n",
    "from sklearn.ensemble import RandomForestRegressor\n",
    "from sklearn.model_selection import KFold\n",
    "from sklearn.metrics import mean_squared_error, mean_absolute_error\n",
    "import pandas as pd    \n",
    "import matplotlib.pyplot as plt \n",
    "from scipy.stats import zscore\n",
    "import seaborn as sns"
   ]
  },
  {
   "cell_type": "code",
   "execution_count": 2,
   "metadata": {},
   "outputs": [],
   "source": [
    "powerPlant = pd.read_csv(\"Folds5x2_pp.csv\", header=0 , names = ['Temp','Vacuum','Pressure','Humidity','Power'])"
   ]
  },
  {
   "cell_type": "code",
   "execution_count": 3,
   "metadata": {},
   "outputs": [
    {
     "data": {
      "text/html": [
       "<div>\n",
       "<style scoped>\n",
       "    .dataframe tbody tr th:only-of-type {\n",
       "        vertical-align: middle;\n",
       "    }\n",
       "\n",
       "    .dataframe tbody tr th {\n",
       "        vertical-align: top;\n",
       "    }\n",
       "\n",
       "    .dataframe thead th {\n",
       "        text-align: right;\n",
       "    }\n",
       "</style>\n",
       "<table border=\"1\" class=\"dataframe\">\n",
       "  <thead>\n",
       "    <tr style=\"text-align: right;\">\n",
       "      <th></th>\n",
       "      <th>Temp</th>\n",
       "      <th>Vacuum</th>\n",
       "      <th>Pressure</th>\n",
       "      <th>Humidity</th>\n",
       "      <th>Power</th>\n",
       "    </tr>\n",
       "  </thead>\n",
       "  <tbody>\n",
       "    <tr>\n",
       "      <th>0</th>\n",
       "      <td>8.34</td>\n",
       "      <td>40.77</td>\n",
       "      <td>1010.84</td>\n",
       "      <td>90.01</td>\n",
       "      <td>480.48</td>\n",
       "    </tr>\n",
       "    <tr>\n",
       "      <th>1</th>\n",
       "      <td>23.64</td>\n",
       "      <td>58.49</td>\n",
       "      <td>1011.40</td>\n",
       "      <td>74.20</td>\n",
       "      <td>445.75</td>\n",
       "    </tr>\n",
       "    <tr>\n",
       "      <th>2</th>\n",
       "      <td>29.74</td>\n",
       "      <td>56.90</td>\n",
       "      <td>1007.15</td>\n",
       "      <td>41.91</td>\n",
       "      <td>438.76</td>\n",
       "    </tr>\n",
       "    <tr>\n",
       "      <th>3</th>\n",
       "      <td>19.07</td>\n",
       "      <td>49.69</td>\n",
       "      <td>1007.22</td>\n",
       "      <td>76.79</td>\n",
       "      <td>453.09</td>\n",
       "    </tr>\n",
       "    <tr>\n",
       "      <th>4</th>\n",
       "      <td>11.80</td>\n",
       "      <td>40.66</td>\n",
       "      <td>1017.13</td>\n",
       "      <td>97.20</td>\n",
       "      <td>464.43</td>\n",
       "    </tr>\n",
       "  </tbody>\n",
       "</table>\n",
       "</div>"
      ],
      "text/plain": [
       "    Temp  Vacuum  Pressure  Humidity   Power\n",
       "0   8.34   40.77   1010.84     90.01  480.48\n",
       "1  23.64   58.49   1011.40     74.20  445.75\n",
       "2  29.74   56.90   1007.15     41.91  438.76\n",
       "3  19.07   49.69   1007.22     76.79  453.09\n",
       "4  11.80   40.66   1017.13     97.20  464.43"
      ]
     },
     "execution_count": 3,
     "metadata": {},
     "output_type": "execute_result"
    }
   ],
   "source": [
    "powerPlant.head()"
   ]
  },
  {
   "cell_type": "code",
   "execution_count": 4,
   "metadata": {},
   "outputs": [
    {
     "data": {
      "text/html": [
       "<div>\n",
       "<style scoped>\n",
       "    .dataframe tbody tr th:only-of-type {\n",
       "        vertical-align: middle;\n",
       "    }\n",
       "\n",
       "    .dataframe tbody tr th {\n",
       "        vertical-align: top;\n",
       "    }\n",
       "\n",
       "    .dataframe thead th {\n",
       "        text-align: right;\n",
       "    }\n",
       "</style>\n",
       "<table border=\"1\" class=\"dataframe\">\n",
       "  <thead>\n",
       "    <tr style=\"text-align: right;\">\n",
       "      <th></th>\n",
       "      <th>count</th>\n",
       "      <th>mean</th>\n",
       "      <th>std</th>\n",
       "      <th>min</th>\n",
       "      <th>25%</th>\n",
       "      <th>50%</th>\n",
       "      <th>75%</th>\n",
       "      <th>max</th>\n",
       "    </tr>\n",
       "  </thead>\n",
       "  <tbody>\n",
       "    <tr>\n",
       "      <th>Temp</th>\n",
       "      <td>9568.0</td>\n",
       "      <td>19.651231</td>\n",
       "      <td>7.452473</td>\n",
       "      <td>1.81</td>\n",
       "      <td>13.5100</td>\n",
       "      <td>20.345</td>\n",
       "      <td>25.72</td>\n",
       "      <td>37.11</td>\n",
       "    </tr>\n",
       "    <tr>\n",
       "      <th>Vacuum</th>\n",
       "      <td>9568.0</td>\n",
       "      <td>54.305804</td>\n",
       "      <td>12.707893</td>\n",
       "      <td>25.36</td>\n",
       "      <td>41.7400</td>\n",
       "      <td>52.080</td>\n",
       "      <td>66.54</td>\n",
       "      <td>81.56</td>\n",
       "    </tr>\n",
       "    <tr>\n",
       "      <th>Pressure</th>\n",
       "      <td>9568.0</td>\n",
       "      <td>1013.259078</td>\n",
       "      <td>5.938784</td>\n",
       "      <td>992.89</td>\n",
       "      <td>1009.1000</td>\n",
       "      <td>1012.940</td>\n",
       "      <td>1017.26</td>\n",
       "      <td>1033.30</td>\n",
       "    </tr>\n",
       "    <tr>\n",
       "      <th>Humidity</th>\n",
       "      <td>9568.0</td>\n",
       "      <td>73.308978</td>\n",
       "      <td>14.600269</td>\n",
       "      <td>25.56</td>\n",
       "      <td>63.3275</td>\n",
       "      <td>74.975</td>\n",
       "      <td>84.83</td>\n",
       "      <td>100.16</td>\n",
       "    </tr>\n",
       "    <tr>\n",
       "      <th>Power</th>\n",
       "      <td>9568.0</td>\n",
       "      <td>454.365009</td>\n",
       "      <td>17.066995</td>\n",
       "      <td>420.26</td>\n",
       "      <td>439.7500</td>\n",
       "      <td>451.550</td>\n",
       "      <td>468.43</td>\n",
       "      <td>495.76</td>\n",
       "    </tr>\n",
       "  </tbody>\n",
       "</table>\n",
       "</div>"
      ],
      "text/plain": [
       "           count         mean        std     min        25%       50%  \\\n",
       "Temp      9568.0    19.651231   7.452473    1.81    13.5100    20.345   \n",
       "Vacuum    9568.0    54.305804  12.707893   25.36    41.7400    52.080   \n",
       "Pressure  9568.0  1013.259078   5.938784  992.89  1009.1000  1012.940   \n",
       "Humidity  9568.0    73.308978  14.600269   25.56    63.3275    74.975   \n",
       "Power     9568.0   454.365009  17.066995  420.26   439.7500   451.550   \n",
       "\n",
       "              75%      max  \n",
       "Temp        25.72    37.11  \n",
       "Vacuum      66.54    81.56  \n",
       "Pressure  1017.26  1033.30  \n",
       "Humidity    84.83   100.16  \n",
       "Power      468.43   495.76  "
      ]
     },
     "execution_count": 4,
     "metadata": {},
     "output_type": "execute_result"
    }
   ],
   "source": [
    "powerPlant.describe().T"
   ]
  },
  {
   "cell_type": "code",
   "execution_count": 44,
   "metadata": {},
   "outputs": [
    {
     "data": {
      "text/plain": [
       "Text(0.5,0,'Tempepature - Celsius')"
      ]
     },
     "execution_count": 44,
     "metadata": {},
     "output_type": "execute_result"
    },
    {
     "data": {
      "image/png": "[encoded data removed]",
      "text/plain": [
       "<matplotlib.figure.Figure at 0x1f50d626748>"
      ]
     },
     "metadata": {
      "needs_background": "light"
     },
     "output_type": "display_data"
    }
   ],
   "source": [
    "ax = powerPlant['Temp'].plot.hist()\n",
    "ax.set_xlabel('Tempepature - Celsius')"
   ]
  },
  {
   "cell_type": "code",
   "execution_count": 45,
   "metadata": {},
   "outputs": [
    {
     "data": {
      "text/plain": [
       "Text(0.5,0,'Vacuum - Hg')"
      ]
     },
     "execution_count": 45,
     "metadata": {},
     "output_type": "execute_result"
    },
    {
     "data": {
      "image/png": "[encoded data removed]",
      "text/plain": [
       "<matplotlib.figure.Figure at 0x1f50d73a4e0>"
      ]
     },
     "metadata": {
      "needs_background": "light"
     },
     "output_type": "display_data"
    }
   ],
   "source": [
    "ax = powerPlant['Vacuum'].plot.hist()\n",
    "ax.set_xlabel('Vacuum - Hg')"
   ]
  },
  {
   "cell_type": "code",
   "execution_count": 46,
   "metadata": {},
   "outputs": [
    {
     "data": {
      "text/plain": [
       "Text(0.5,0,'Pressure - Milibar')"
      ]
     },
     "execution_count": 46,
     "metadata": {},
     "output_type": "execute_result"
    },
    {
     "data": {
      "image/png": "[encoded data removed]",
      "text/plain": [
       "<matplotlib.figure.Figure at 0x1f50d7d5d68>"
      ]
     },
     "metadata": {
      "needs_background": "light"
     },
     "output_type": "display_data"
    }
   ],
   "source": [
    "ax = powerPlant['Pressure'].plot.hist()\n",
    "ax.set_xlabel('Pressure - Milibar')"
   ]
  },
  {
   "cell_type": "code",
   "execution_count": 47,
   "metadata": {},
   "outputs": [
    {
     "data": {
      "text/plain": [
       "Text(0.5,0,'Humidity - %')"
      ]
     },
     "execution_count": 47,
     "metadata": {},
     "output_type": "execute_result"
    },
    {
     "data": {
      "image/png": "[encoded data removed]",
      "text/plain": [
       "<matplotlib.figure.Figure at 0x1f509608080>"
      ]
     },
     "metadata": {
      "needs_background": "light"
     },
     "output_type": "display_data"
    }
   ],
   "source": [
    "ax = powerPlant['Humidity'].plot.hist()\n",
    "ax.set_xlabel('Humidity - %')"
   ]
  },
  {
   "cell_type": "code",
   "execution_count": 48,
   "metadata": {},
   "outputs": [
    {
     "data": {
      "text/plain": [
       "Text(0.5,0,'Power - MW')"
      ]
     },
     "execution_count": 48,
     "metadata": {},
     "output_type": "execute_result"
    },
    {
     "data": {
      "image/png": "[encoded data removed]",
      "text/plain": [
       "<matplotlib.figure.Figure at 0x1f50d4b8400>"
      ]
     },
     "metadata": {
      "needs_background": "light"
     },
     "output_type": "display_data"
    }
   ],
   "source": [
    "ax = powerPlant['Power'].plot.hist()\n",
    "ax.set_xlabel('Power - MW')"
   ]
  },
  {
   "cell_type": "markdown",
   "metadata": {},
   "source": [
    "# Data Analysis"
   ]
  },
  {
   "cell_type": "markdown",
   "metadata": {},
   "source": [
    "Correlation Graph"
   ]
  },
  {
   "cell_type": "code",
   "execution_count": 5,
   "metadata": {},
   "outputs": [
    {
     "data": {
      "text/plain": [
       "<matplotlib.axes._subplots.AxesSubplot at 0x1f507560be0>"
      ]
     },
     "execution_count": 5,
     "metadata": {},
     "output_type": "execute_result"
    },
    {
     "data": {
      "image/png": "[encoded data removed]",
      "text/plain": [
       "<matplotlib.figure.Figure at 0x1f507560438>"
      ]
     },
     "metadata": {
      "needs_background": "light"
     },
     "output_type": "display_data"
    }
   ],
   "source": [
    "corr = powerPlant.corr(method='spearman') # pearson kendall spearman\n",
    "\n",
    "mask = np.zeros_like(corr, dtype=np.bool)\n",
    "mask[np.triu_indices_from(mask)] = True\n",
    "\n",
    "# Set up the matplotlib figure\n",
    "f, ax = plt.subplots(figsize=(11, 9))\n",
    "\n",
    "# Generate a custom diverging colormap\n",
    "cmap = sns.diverging_palette(1,200, as_cmap=True)\n",
    "\n",
    "# Draw the heatmap with the mask and correct aspect ratio\n",
    "sns.heatmap(corr, mask=mask, cmap=cmap, vmax=.3, center=0,\n",
    "            square=True, linewidths=.5, cbar_kws={\"shrink\": .5}, annot  = True)"
   ]
  },
  {
   "cell_type": "markdown",
   "metadata": {},
   "source": [
    "1. Power has a strong negative correlation with 'Ambient Temperature' and 'Exhaust Vacuum' of the Plant. So, it seems that as Temperature or Vacuum increases the Power output of the Plant decreases.\n",
    "2. Similarly, Power has a positive correlation with Pressure and Humidity. It seems that on increasing Humidity and Pressure, the Power output will increase.\n",
    "3. Vacuum has a strong positive correlation with Temperature of the plant and also Humidity has a small positive correlation with Pressure.\n",
    "4. All the other non Power linkages have a negative correlation."
   ]
  },
  {
   "cell_type": "markdown",
   "metadata": {},
   "source": [
    "# Training - testing"
   ]
  },
  {
   "cell_type": "code",
   "execution_count": 13,
   "metadata": {},
   "outputs": [],
   "source": [
    "x = powerPlant[['Temp', 'Vacuum', 'Pressure', 'Humidity']]\n",
    "y = powerPlant['Power']"
   ]
  },
  {
   "cell_type": "code",
   "execution_count": 14,
   "metadata": {},
   "outputs": [],
   "source": [
    "## Returns rmse, mae for training section\n",
    "def calc_train_error(X_train, y_train, model, scaler=None):\n",
    "    predictions = model.predict(X_train)\n",
    "    if scaler is not None:\n",
    "        y_train = scaler.inverse_transform(y_train.reshape(-1, 1))\n",
    "        predictions = scaler.inverse_transform(predictions.reshape(-1, 1))\n",
    "    mse = mean_squared_error(y_train, predictions)\n",
    "    rmse = np.sqrt(mse)\n",
    "    mae = mean_absolute_error(y_train, predictions)\n",
    "    return rmse, mae\n",
    "## Returns rmse, mae for testing section\n",
    "def calc_validation_error(X_test, y_test, model, scaler=None):\n",
    "    predictions = model.predict(X_test)\n",
    "    if scaler is not None:\n",
    "        y_test = scaler.inverse_transform(y_test.reshape(-1, 1))\n",
    "        predictions = scaler.inverse_transform(predictions.reshape(-1, 1))\n",
    "\n",
    "    mse = mean_squared_error(y_test, predictions)\n",
    "    rmse = np.sqrt(mse)\n",
    "    mae = mean_absolute_error(y_test, predictions)\n",
    "    return rmse, mae\n",
    "\n",
    "## Returns errors of model\n",
    "def calc_metrics(X_train, y_train, X_test, y_test, model, scaler=None):\n",
    "    '''fits model and returns the RMSE for in-sample error and out-of-sample error'''\n",
    "    # \n",
    "    train_error = calc_train_error(X_train, y_train, model, scaler)\n",
    "    validation_error = calc_validation_error(X_test, y_test, model, scaler)\n",
    "    return train_error, validation_error"
   ]
  },
  {
   "cell_type": "code",
   "execution_count": 15,
   "metadata": {},
   "outputs": [],
   "source": [
    "# Run kfolds with Polynomial Features\n",
    "def run_kfold_poly(k, lr_or_rf=True):\n",
    "    degrees = [1,2,3,4,5,6]\n",
    "    kf = KFold(n_splits=k, shuffle = True, random_state=2020)\n",
    "    x_array = np.asarray(x)\n",
    "    result = []\n",
    "    for degree in degrees:\n",
    "        total_train_rmse = []\n",
    "        total_train_mae = []\n",
    "        total_val_rmse = []\n",
    "        total_val_mae = []\n",
    "        \n",
    "        # Instantiating Model\n",
    "        i = 0\n",
    "        for train_index, val_index in kf.split(x_array,y):\n",
    "            if lr_or_rf:\n",
    "                model = LinearRegression()\n",
    "            else:\n",
    "                model = RandomForestRegressor(n_estimators=500, max_depth=5)\n",
    "            poly = PolynomialFeatures(degree = degree, interaction_only= True)\n",
    "            x_poly = poly.fit_transform(x_array)\n",
    "            # Split data\n",
    "            x_train, x_val = x_poly[train_index], x_poly[val_index]\n",
    "            y_train, y_val = y[train_index], y[val_index]\n",
    "            if isinstance(model, RandomForestRegressor):\n",
    "                y_train = y_train.ravel()\n",
    "                y_val = y_val.ravel()\n",
    "            model.fit(x_train, y_train)\n",
    "            # Calculate Error\n",
    "            train_error, val_error = calc_metrics(x_train, y_train, x_val, y_val, model)\n",
    "\n",
    "            train_rmse = train_error[0]\n",
    "            train_mae = train_error[1]\n",
    "            val_rmse = val_error[0]\n",
    "            val_mae = val_error[1]\n",
    "\n",
    "            \n",
    "            total_train_rmse.append(train_rmse)\n",
    "            total_val_rmse.append(val_rmse)\n",
    "            total_train_mae.append(train_mae)\n",
    "            total_val_mae.append(val_mae)\n",
    "            i += 1\n",
    "        if lr_or_rf:\n",
    "            print(\"Linear Regression\")\n",
    "        else:\n",
    "            print(\"Random Forest Regression\")\n",
    "        print(\"DEGREE: {}\".format(degree))\n",
    "        print(\"TRAINING RMSE: {} ------ VAL RMSE {}\".format(round(np.mean(total_train_rmse), 4), round(np.mean(total_val_rmse), 4)))\n",
    "        print(\"TRAINING MAE: {} ------ VAL MAE {}\".format(round(np.mean(total_train_mae), 4), round(np.mean(total_val_mae), 4)))\n",
    "        print(\"*\"*100)\n",
    "        \n",
    "\n",
    "# Run kfolds with Standared or MinMax Scaler\n",
    "def run_kfold_scale(k, lr_or_rf=True, min_max_or_standar=True):\n",
    "    kf = KFold(n_splits=k, shuffle = True, random_state=2020)\n",
    "    x_array = np.asarray(x)\n",
    "\n",
    "    total_train_rmse = []\n",
    "    total_train_mae = []\n",
    "    total_val_rmse = []\n",
    "    total_val_mae = []\n",
    "\n",
    "    if min_max_or_standar:\n",
    "        scaler = MinMaxScaler()\n",
    "        y_scaler = MinMaxScaler()\n",
    "    else:\n",
    "        scaler = StandardScaler()\n",
    "        y_scaler = StandardScaler()\n",
    "\n",
    "    x_scale = scaler.fit_transform(x_array)\n",
    "    y_scale = y_scaler.fit_transform(y.values.reshape(-1,1))\n",
    "    # Instantiating Model\n",
    "    for train_index, val_index in kf.split(x_scale,y):\n",
    "        if lr_or_rf:\n",
    "            model = LinearRegression()\n",
    "        else:\n",
    "            model = RandomForestRegressor(n_estimators=500, max_depth=5)\n",
    "        # Split data\n",
    "        x_train, x_val = x_scale[train_index], x_scale[val_index]\n",
    "        y_train, y_val = y_scale[train_index], y_scale[val_index]\n",
    "        if isinstance(model, RandomForestRegressor):\n",
    "            y_train = y_train.ravel()\n",
    "            y_val = y_val.ravel()\n",
    "        model.fit(x_train, y_train)\n",
    "        # Calculate Error\n",
    "\n",
    "        train_error, val_error = calc_metrics(x_train, y_train, x_val, y_val, model, y_scaler)\n",
    "\n",
    "        train_rmse = train_error[0]\n",
    "        train_mae = train_error[1]\n",
    "        val_rmse = val_error[0]\n",
    "        val_mae = val_error[1]\n",
    "\n",
    "        total_train_rmse.append(train_rmse)\n",
    "        total_val_rmse.append(val_rmse)\n",
    "        total_train_mae.append(train_mae)\n",
    "        total_val_mae.append(val_mae)\n",
    "\n",
    "    if lr_or_rf:\n",
    "        print(\"Linear Regression\")\n",
    "    else:\n",
    "        print(\"Random Forest Regression\")\n",
    "\n",
    "    if min_max_or_standar:\n",
    "        print(\"MinMaxScaler\")\n",
    "    else:\n",
    "        print(\"StandardScaler\")\n",
    "\n",
    "    print(\"TRAINING RMSE: {} ------ VAL RMSE {}\".format(round(np.mean(total_train_rmse), 4), round(np.mean(total_val_rmse), 4)))\n",
    "    print(\"TRAINING MAE: {} ------ VAL MAE {}\".format(round(np.mean(total_train_mae), 4), round(np.mean(total_val_mae), 4)))\n",
    "    print(\"*\"*100)\n",
    "        "
   ]
  },
  {
   "cell_type": "code",
   "execution_count": 16,
   "metadata": {},
   "outputs": [
    {
     "name": "stdout",
     "output_type": "stream",
     "text": [
      "Linear Regression\n",
      "DEGREE: 1\n",
      "TRAINING RMSE: 4.5569 ------ VAL RMSE 4.5571\n",
      "TRAINING MAE: 3.6251 ------ VAL MAE 3.6277\n",
      "****************************************************************************************************\n",
      "Linear Regression\n",
      "DEGREE: 2\n",
      "TRAINING RMSE: 4.3068 ------ VAL RMSE 4.3078\n",
      "TRAINING MAE: 3.3912 ------ VAL MAE 3.3956\n",
      "****************************************************************************************************\n",
      "Linear Regression\n",
      "DEGREE: 3\n",
      "TRAINING RMSE: 4.2657 ------ VAL RMSE 4.2677\n",
      "TRAINING MAE: 3.3318 ------ VAL MAE 3.3374\n",
      "****************************************************************************************************\n",
      "Linear Regression\n",
      "DEGREE: 4\n",
      "TRAINING RMSE: 4.2629 ------ VAL RMSE 4.265\n",
      "TRAINING MAE: 3.3286 ------ VAL MAE 3.3344\n",
      "****************************************************************************************************\n",
      "Linear Regression\n",
      "DEGREE: 5\n",
      "TRAINING RMSE: 4.2629 ------ VAL RMSE 4.265\n",
      "TRAINING MAE: 3.3286 ------ VAL MAE 3.3344\n",
      "****************************************************************************************************\n",
      "Linear Regression\n",
      "DEGREE: 6\n",
      "TRAINING RMSE: 4.2629 ------ VAL RMSE 4.265\n",
      "TRAINING MAE: 3.3286 ------ VAL MAE 3.3344\n",
      "****************************************************************************************************\n",
      "Linear Regression\n",
      "StandardScaler\n",
      "TRAINING RMSE: 4.5569 ------ VAL RMSE 4.5571\n",
      "TRAINING MAE: 3.6251 ------ VAL MAE 3.6277\n",
      "****************************************************************************************************\n",
      "Linear Regression\n",
      "MinMaxScaler\n",
      "TRAINING RMSE: 4.5569 ------ VAL RMSE 4.5571\n",
      "TRAINING MAE: 3.6251 ------ VAL MAE 3.6277\n",
      "****************************************************************************************************\n",
      "Random Forest Regression\n",
      "DEGREE: 1\n",
      "TRAINING RMSE: 4.0826 ------ VAL RMSE 4.1989\n",
      "TRAINING MAE: 3.1474 ------ VAL MAE 3.2349\n",
      "****************************************************************************************************\n",
      "Random Forest Regression\n",
      "DEGREE: 2\n",
      "TRAINING RMSE: 3.9846 ------ VAL RMSE 4.1246\n",
      "TRAINING MAE: 3.0833 ------ VAL MAE 3.1913\n",
      "****************************************************************************************************\n",
      "Random Forest Regression\n",
      "DEGREE: 3\n",
      "TRAINING RMSE: 3.9772 ------ VAL RMSE 4.126\n",
      "TRAINING MAE: 3.0771 ------ VAL MAE 3.1923\n",
      "****************************************************************************************************\n",
      "Random Forest Regression\n",
      "DEGREE: 4\n",
      "TRAINING RMSE: 3.9759 ------ VAL RMSE 4.124\n",
      "TRAINING MAE: 3.0765 ------ VAL MAE 3.1902\n",
      "****************************************************************************************************\n",
      "Random Forest Regression\n",
      "DEGREE: 5\n",
      "TRAINING RMSE: 3.9773 ------ VAL RMSE 4.1272\n",
      "TRAINING MAE: 3.0776 ------ VAL MAE 3.1932\n",
      "****************************************************************************************************\n",
      "Random Forest Regression\n",
      "DEGREE: 6\n",
      "TRAINING RMSE: 3.9768 ------ VAL RMSE 4.1262\n",
      "TRAINING MAE: 3.0775 ------ VAL MAE 3.1919\n",
      "****************************************************************************************************\n",
      "Random Forest Regression\n",
      "StandardScaler\n",
      "TRAINING RMSE: 4.0835 ------ VAL RMSE 4.2007\n",
      "TRAINING MAE: 3.1476 ------ VAL MAE 3.2367\n",
      "****************************************************************************************************\n",
      "Random Forest Regression\n",
      "MinMaxScaler\n",
      "TRAINING RMSE: 4.0826 ------ VAL RMSE 4.1984\n",
      "TRAINING MAE: 3.1473 ------ VAL MAE 3.235\n",
      "****************************************************************************************************\n"
     ]
    }
   ],
   "source": [
    "## Excute\n",
    "run_kfold_poly(k=10, lr_or_rf=True)\n",
    "run_kfold_scale(k=10, lr_or_rf=True, min_max_or_standar=False)\n",
    "run_kfold_scale(k=10, lr_or_rf=True, min_max_or_standar=True)\n",
    "\n",
    "run_kfold_poly(k=10, lr_or_rf=False)\n",
    "run_kfold_scale(k=10, lr_or_rf=False, min_max_or_standar=False)\n",
    "run_kfold_scale(k=10, lr_or_rf=False, min_max_or_standar=True)"
   ]
  },
  {
   "cell_type": "markdown",
   "metadata": {},
   "source": [
    "# Training with 2 important features: TEMP - VACCUM"
   ]
  },
  {
   "cell_type": "code",
   "execution_count": 9,
   "metadata": {},
   "outputs": [],
   "source": [
    "x = powerPlant[['Temp', 'Vacuum']]"
   ]
  },
  {
   "cell_type": "code",
   "execution_count": 10,
   "metadata": {},
   "outputs": [
    {
     "data": {
      "text/html": [
       "<div>\n",
       "<style scoped>\n",
       "    .dataframe tbody tr th:only-of-type {\n",
       "        vertical-align: middle;\n",
       "    }\n",
       "\n",
       "    .dataframe tbody tr th {\n",
       "        vertical-align: top;\n",
       "    }\n",
       "\n",
       "    .dataframe thead th {\n",
       "        text-align: right;\n",
       "    }\n",
       "</style>\n",
       "<table border=\"1\" class=\"dataframe\">\n",
       "  <thead>\n",
       "    <tr style=\"text-align: right;\">\n",
       "      <th></th>\n",
       "      <th>Temp</th>\n",
       "      <th>Vacuum</th>\n",
       "    </tr>\n",
       "  </thead>\n",
       "  <tbody>\n",
       "    <tr>\n",
       "      <th>0</th>\n",
       "      <td>8.34</td>\n",
       "      <td>40.77</td>\n",
       "    </tr>\n",
       "    <tr>\n",
       "      <th>1</th>\n",
       "      <td>23.64</td>\n",
       "      <td>58.49</td>\n",
       "    </tr>\n",
       "    <tr>\n",
       "      <th>2</th>\n",
       "      <td>29.74</td>\n",
       "      <td>56.90</td>\n",
       "    </tr>\n",
       "    <tr>\n",
       "      <th>3</th>\n",
       "      <td>19.07</td>\n",
       "      <td>49.69</td>\n",
       "    </tr>\n",
       "    <tr>\n",
       "      <th>4</th>\n",
       "      <td>11.80</td>\n",
       "      <td>40.66</td>\n",
       "    </tr>\n",
       "  </tbody>\n",
       "</table>\n",
       "</div>"
      ],
      "text/plain": [
       "    Temp  Vacuum\n",
       "0   8.34   40.77\n",
       "1  23.64   58.49\n",
       "2  29.74   56.90\n",
       "3  19.07   49.69\n",
       "4  11.80   40.66"
      ]
     },
     "execution_count": 10,
     "metadata": {},
     "output_type": "execute_result"
    }
   ],
   "source": [
    "x.head()"
   ]
  },
  {
   "cell_type": "code",
   "execution_count": 11,
   "metadata": {},
   "outputs": [
    {
     "name": "stdout",
     "output_type": "stream",
     "text": [
      "Linear Regression\n",
      "DEGREE: 1\n",
      "TRAINING RMSE: 4.954 ------ VAL RMSE 4.9527\n",
      "TRAINING MAE: 3.9174 ------ VAL MAE 3.9189\n",
      "****************************************************************************************************\n",
      "Linear Regression\n",
      "DEGREE: 2\n",
      "TRAINING RMSE: 4.666 ------ VAL RMSE 4.6641\n",
      "TRAINING MAE: 3.6578 ------ VAL MAE 3.66\n",
      "****************************************************************************************************\n",
      "Linear Regression\n",
      "DEGREE: 3\n",
      "TRAINING RMSE: 4.666 ------ VAL RMSE 4.6641\n",
      "TRAINING MAE: 3.6578 ------ VAL MAE 3.66\n",
      "****************************************************************************************************\n",
      "Linear Regression\n",
      "DEGREE: 4\n",
      "TRAINING RMSE: 4.666 ------ VAL RMSE 4.6641\n",
      "TRAINING MAE: 3.6578 ------ VAL MAE 3.66\n",
      "****************************************************************************************************\n",
      "Linear Regression\n",
      "DEGREE: 5\n",
      "TRAINING RMSE: 4.666 ------ VAL RMSE 4.6641\n",
      "TRAINING MAE: 3.6578 ------ VAL MAE 3.66\n",
      "****************************************************************************************************\n",
      "Linear Regression\n",
      "DEGREE: 6\n",
      "TRAINING RMSE: 4.666 ------ VAL RMSE 4.6641\n",
      "TRAINING MAE: 3.6578 ------ VAL MAE 3.66\n",
      "****************************************************************************************************\n",
      "Random Forest Regression\n",
      "DEGREE: 1\n",
      "TRAINING RMSE: 4.2693 ------ VAL RMSE 4.3652\n",
      "TRAINING MAE: 3.3042 ------ VAL MAE 3.3739\n",
      "****************************************************************************************************\n",
      "Random Forest Regression\n",
      "DEGREE: 2\n",
      "TRAINING RMSE: 4.2994 ------ VAL RMSE 4.416\n",
      "TRAINING MAE: 3.337 ------ VAL MAE 3.4254\n",
      "****************************************************************************************************\n",
      "Random Forest Regression\n",
      "DEGREE: 3\n",
      "TRAINING RMSE: 4.299 ------ VAL RMSE 4.416\n",
      "TRAINING MAE: 3.3368 ------ VAL MAE 3.426\n",
      "****************************************************************************************************\n",
      "Random Forest Regression\n",
      "DEGREE: 4\n",
      "TRAINING RMSE: 4.2996 ------ VAL RMSE 4.4169\n",
      "TRAINING MAE: 3.3365 ------ VAL MAE 3.4258\n",
      "****************************************************************************************************\n",
      "Random Forest Regression\n",
      "DEGREE: 5\n",
      "TRAINING RMSE: 4.2993 ------ VAL RMSE 4.4166\n",
      "TRAINING MAE: 3.3364 ------ VAL MAE 3.4258\n",
      "****************************************************************************************************\n",
      "Random Forest Regression\n",
      "DEGREE: 6\n",
      "TRAINING RMSE: 4.2993 ------ VAL RMSE 4.4149\n",
      "TRAINING MAE: 3.3367 ------ VAL MAE 3.4245\n",
      "****************************************************************************************************\n"
     ]
    }
   ],
   "source": [
    "# Investigate the performance of Linear Regression and Random Forest with Polynomial Features\n",
    "run_kfold_poly(k=10, lr_or_rf=True)\n",
    "run_kfold_poly(k=10, lr_or_rf=False)"
   ]
  },
  {
   "cell_type": "code",
   "execution_count": null,
   "metadata": {},
   "outputs": [],
   "source": []
  }
 ],
 "metadata": {
  "kernelspec": {
   "display_name": "Python 3",
   "language": "python",
   "name": "python3"
  },
  "language_info": {
   "codemirror_mode": {
    "name": "ipython",
    "version": 3
   },
   "file_extension": ".py",
   "mimetype": "text/x-python",
   "name": "python",
   "nbconvert_exporter": "python",
   "pygments_lexer": "ipython3",
   "version": "3.6.8"
  }
 },
 "nbformat": 4,
 "nbformat_minor": 2
}
